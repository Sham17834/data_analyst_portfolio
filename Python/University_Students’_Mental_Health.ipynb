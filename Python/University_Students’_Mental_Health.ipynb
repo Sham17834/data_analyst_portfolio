{
 "cells": [
  {
   "cell_type": "markdown",
   "id": "11963005",
   "metadata": {},
   "source": [
    "# University Students’ Mental Health"
   ]
  },
  {
   "cell_type": "markdown",
   "id": "1dcfe1d1",
   "metadata": {},
   "source": [
    "## 🧠 Background\n",
    "Mental health has become an increasingly important topic among university students, especially in the context of rising academic pressure, social isolation, and the impact of external stressors such as the COVID-19 pandemic. University students often experience stress, anxiety, and depression due to factors such as heavy coursework, academic engagement, and personal challenges.\n",
    "\n",
    "In Malaysia, concerns about student mental health are growing. Various studies and surveys have shown that a significant proportion of university students suffer from symptoms of psychological distress, including depression, anxiety, and panic attacks, but only a few seek professional help or have access to mental health support. This dataset provides anonymized responses from Malaysian university students, capturing information on their mental health status, academic stress, sleep quality, and related factors."
   ]
  },
  {
   "cell_type": "markdown",
   "id": "655b2ee5",
   "metadata": {},
   "source": [
    "## 🎯 Objectives\n",
    "This data analysis project aims to explore the mental health status of university students using survey-based datasets. The main objectives are:\n",
    "\n",
    "1. To understand the overall mental health condition of university students.\n",
    "2. To identify key factors that influence students' mental well-being.\n",
    "3. To visualize mental health trends by demographics (e.g., gender, age, academic year)."
   ]
  },
  {
   "cell_type": "markdown",
   "id": "bb9607cb",
   "metadata": {},
   "source": [
    "## 📂 Dataset\n",
    "The dataset used in this project contains anonymized responses from university students regarding their mental health, academic pressure, personal habits, and emotional well-being. The dataset contains **1000** records. It includes features such as:\n",
    "\n",
    "1. Timestamp  \n",
    "2. Gender  \n",
    "3. Age  \n",
    "4. Course  \n",
    "5. YearOfStudy  \n",
    "6. CGPA  \n",
    "7. Depression  \n",
    "8. Anxiety  \n",
    "9. PanicAttack  \n",
    "10. SpecialistTreatment  \n",
    "11. SymptomFrequency_Last7Days  \n",
    "12. HasMentalHealthSupport  \n",
    "13. SleepQuality  \n",
    "14. StudyStressLevel  \n",
    "15. StudyHoursPerWeek  \n",
    "16. AcademicEngagement"
   ]
  },
  {
   "cell_type": "markdown",
   "id": "e9bf86bb",
   "metadata": {},
   "source": [
    "## 💻 Tools and Libraries\n",
    "This project is implemented using Python in a Jupyter Notebook, utilizing common data science libraries:\n",
    "\n",
    "1. pandas for data loading and manipulation\n",
    "2. matplotlib and seaborn for visualization"
   ]
  },
  {
   "cell_type": "markdown",
   "id": "6b2ea158",
   "metadata": {},
   "source": [
    "### Import Necessary Libraries"
   ]
  },
  {
   "cell_type": "code",
   "execution_count": 59,
   "id": "947119df",
   "metadata": {},
   "outputs": [],
   "source": [
    "import pandas as pd\n",
    "import numpy as np\n",
    "import matplotlib.pyplot as plt\n",
    "import seaborn as sns\n",
    "from sklearn.model_selection import train_test_split\n",
    "from sklearn.ensemble import RandomForestClassifier\n",
    "from sklearn.metrics import classification_report, roc_auc_score, roc_curve, confusion_matrix"
   ]
  },
  {
   "cell_type": "markdown",
   "id": "e714f938",
   "metadata": {},
   "source": [
    "### Load the dataset"
   ]
  },
  {
   "cell_type": "code",
   "execution_count": 31,
   "id": "5ae9e6a4",
   "metadata": {},
   "outputs": [],
   "source": [
    "df = pd.read_csv('C:/Users/Yong1/Documents/mentalhealth_dataset.csv')"
   ]
  },
  {
   "cell_type": "markdown",
   "id": "5489175c",
   "metadata": {},
   "source": [
    "### Display first five rows "
   ]
  },
  {
   "cell_type": "code",
   "execution_count": 32,
   "id": "abb56fb4",
   "metadata": {},
   "outputs": [
    {
     "name": "stdout",
     "output_type": "stream",
     "text": [
      "The first few rows of the dataset:\n"
     ]
    },
    {
     "data": {
      "application/vnd.microsoft.datawrangler.viewer.v0+json": {
       "columns": [
        {
         "name": "index",
         "rawType": "int64",
         "type": "integer"
        },
        {
         "name": "Timestamp",
         "rawType": "object",
         "type": "string"
        },
        {
         "name": "Gender",
         "rawType": "object",
         "type": "string"
        },
        {
         "name": "Age",
         "rawType": "int64",
         "type": "integer"
        },
        {
         "name": "Course",
         "rawType": "object",
         "type": "string"
        },
        {
         "name": "YearOfStudy",
         "rawType": "object",
         "type": "string"
        },
        {
         "name": "CGPA",
         "rawType": "float64",
         "type": "float"
        },
        {
         "name": "Depression",
         "rawType": "int64",
         "type": "integer"
        },
        {
         "name": "Anxiety",
         "rawType": "int64",
         "type": "integer"
        },
        {
         "name": "PanicAttack",
         "rawType": "int64",
         "type": "integer"
        },
        {
         "name": "SpecialistTreatment",
         "rawType": "int64",
         "type": "integer"
        },
        {
         "name": "SymptomFrequency_Last7Days",
         "rawType": "int64",
         "type": "integer"
        },
        {
         "name": "HasMentalHealthSupport",
         "rawType": "int64",
         "type": "integer"
        },
        {
         "name": "SleepQuality",
         "rawType": "int64",
         "type": "integer"
        },
        {
         "name": "StudyStressLevel",
         "rawType": "int64",
         "type": "integer"
        },
        {
         "name": "StudyHoursPerWeek",
         "rawType": "int64",
         "type": "integer"
        },
        {
         "name": "AcademicEngagement",
         "rawType": "int64",
         "type": "integer"
        }
       ],
       "ref": "c186536f-8c7d-45e1-939f-43f8cf02c574",
       "rows": [
        [
         "0",
         "13/7/2020",
         "Female",
         "24",
         "Biotechnology",
         "Year 3",
         "2.38",
         "1",
         "0",
         "0",
         "0",
         "5",
         "0",
         "4",
         "5",
         "8",
         "2"
        ],
        [
         "1",
         "13/7/2020",
         "Female",
         "18",
         "Biotechnology",
         "Year 3",
         "4.0",
         "0",
         "1",
         "0",
         "0",
         "0",
         "0",
         "4",
         "4",
         "13",
         "5"
        ],
        [
         "2",
         "13/7/2020",
         "Female",
         "25",
         "Biotechnology",
         "Year 3",
         "3.68",
         "0",
         "0",
         "1",
         "0",
         "3",
         "0",
         "1",
         "2",
         "13",
         "1"
        ],
        [
         "3",
         "13/7/2020",
         "Female",
         "18",
         "Engineering",
         "year 4",
         "4.0",
         "0",
         "0",
         "0",
         "0",
         "3",
         "0",
         "5",
         "1",
         "19",
         "2"
        ],
        [
         "4",
         "13/7/2020",
         "Female",
         "20",
         "Engineering",
         "year 4",
         "2.0",
         "1",
         "1",
         "0",
         "0",
         "0",
         "0",
         "2",
         "4",
         "3",
         "2"
        ]
       ],
       "shape": {
        "columns": 16,
        "rows": 5
       }
      },
      "text/html": [
       "<div>\n",
       "<style scoped>\n",
       "    .dataframe tbody tr th:only-of-type {\n",
       "        vertical-align: middle;\n",
       "    }\n",
       "\n",
       "    .dataframe tbody tr th {\n",
       "        vertical-align: top;\n",
       "    }\n",
       "\n",
       "    .dataframe thead th {\n",
       "        text-align: right;\n",
       "    }\n",
       "</style>\n",
       "<table border=\"1\" class=\"dataframe\">\n",
       "  <thead>\n",
       "    <tr style=\"text-align: right;\">\n",
       "      <th></th>\n",
       "      <th>Timestamp</th>\n",
       "      <th>Gender</th>\n",
       "      <th>Age</th>\n",
       "      <th>Course</th>\n",
       "      <th>YearOfStudy</th>\n",
       "      <th>CGPA</th>\n",
       "      <th>Depression</th>\n",
       "      <th>Anxiety</th>\n",
       "      <th>PanicAttack</th>\n",
       "      <th>SpecialistTreatment</th>\n",
       "      <th>SymptomFrequency_Last7Days</th>\n",
       "      <th>HasMentalHealthSupport</th>\n",
       "      <th>SleepQuality</th>\n",
       "      <th>StudyStressLevel</th>\n",
       "      <th>StudyHoursPerWeek</th>\n",
       "      <th>AcademicEngagement</th>\n",
       "    </tr>\n",
       "  </thead>\n",
       "  <tbody>\n",
       "    <tr>\n",
       "      <th>0</th>\n",
       "      <td>13/7/2020</td>\n",
       "      <td>Female</td>\n",
       "      <td>24</td>\n",
       "      <td>Biotechnology</td>\n",
       "      <td>Year 3</td>\n",
       "      <td>2.38</td>\n",
       "      <td>1</td>\n",
       "      <td>0</td>\n",
       "      <td>0</td>\n",
       "      <td>0</td>\n",
       "      <td>5</td>\n",
       "      <td>0</td>\n",
       "      <td>4</td>\n",
       "      <td>5</td>\n",
       "      <td>8</td>\n",
       "      <td>2</td>\n",
       "    </tr>\n",
       "    <tr>\n",
       "      <th>1</th>\n",
       "      <td>13/7/2020</td>\n",
       "      <td>Female</td>\n",
       "      <td>18</td>\n",
       "      <td>Biotechnology</td>\n",
       "      <td>Year 3</td>\n",
       "      <td>4.00</td>\n",
       "      <td>0</td>\n",
       "      <td>1</td>\n",
       "      <td>0</td>\n",
       "      <td>0</td>\n",
       "      <td>0</td>\n",
       "      <td>0</td>\n",
       "      <td>4</td>\n",
       "      <td>4</td>\n",
       "      <td>13</td>\n",
       "      <td>5</td>\n",
       "    </tr>\n",
       "    <tr>\n",
       "      <th>2</th>\n",
       "      <td>13/7/2020</td>\n",
       "      <td>Female</td>\n",
       "      <td>25</td>\n",
       "      <td>Biotechnology</td>\n",
       "      <td>Year 3</td>\n",
       "      <td>3.68</td>\n",
       "      <td>0</td>\n",
       "      <td>0</td>\n",
       "      <td>1</td>\n",
       "      <td>0</td>\n",
       "      <td>3</td>\n",
       "      <td>0</td>\n",
       "      <td>1</td>\n",
       "      <td>2</td>\n",
       "      <td>13</td>\n",
       "      <td>1</td>\n",
       "    </tr>\n",
       "    <tr>\n",
       "      <th>3</th>\n",
       "      <td>13/7/2020</td>\n",
       "      <td>Female</td>\n",
       "      <td>18</td>\n",
       "      <td>Engineering</td>\n",
       "      <td>year 4</td>\n",
       "      <td>4.00</td>\n",
       "      <td>0</td>\n",
       "      <td>0</td>\n",
       "      <td>0</td>\n",
       "      <td>0</td>\n",
       "      <td>3</td>\n",
       "      <td>0</td>\n",
       "      <td>5</td>\n",
       "      <td>1</td>\n",
       "      <td>19</td>\n",
       "      <td>2</td>\n",
       "    </tr>\n",
       "    <tr>\n",
       "      <th>4</th>\n",
       "      <td>13/7/2020</td>\n",
       "      <td>Female</td>\n",
       "      <td>20</td>\n",
       "      <td>Engineering</td>\n",
       "      <td>year 4</td>\n",
       "      <td>2.00</td>\n",
       "      <td>1</td>\n",
       "      <td>1</td>\n",
       "      <td>0</td>\n",
       "      <td>0</td>\n",
       "      <td>0</td>\n",
       "      <td>0</td>\n",
       "      <td>2</td>\n",
       "      <td>4</td>\n",
       "      <td>3</td>\n",
       "      <td>2</td>\n",
       "    </tr>\n",
       "  </tbody>\n",
       "</table>\n",
       "</div>"
      ],
      "text/plain": [
       "   Timestamp  Gender  Age         Course YearOfStudy  CGPA  Depression  \\\n",
       "0  13/7/2020  Female   24  Biotechnology      Year 3  2.38           1   \n",
       "1  13/7/2020  Female   18  Biotechnology      Year 3  4.00           0   \n",
       "2  13/7/2020  Female   25  Biotechnology      Year 3  3.68           0   \n",
       "3  13/7/2020  Female   18    Engineering      year 4  4.00           0   \n",
       "4  13/7/2020  Female   20    Engineering      year 4  2.00           1   \n",
       "\n",
       "   Anxiety  PanicAttack  SpecialistTreatment  SymptomFrequency_Last7Days  \\\n",
       "0        0            0                    0                           5   \n",
       "1        1            0                    0                           0   \n",
       "2        0            1                    0                           3   \n",
       "3        0            0                    0                           3   \n",
       "4        1            0                    0                           0   \n",
       "\n",
       "   HasMentalHealthSupport  SleepQuality  StudyStressLevel  StudyHoursPerWeek  \\\n",
       "0                       0             4                 5                  8   \n",
       "1                       0             4                 4                 13   \n",
       "2                       0             1                 2                 13   \n",
       "3                       0             5                 1                 19   \n",
       "4                       0             2                 4                  3   \n",
       "\n",
       "   AcademicEngagement  \n",
       "0                   2  \n",
       "1                   5  \n",
       "2                   1  \n",
       "3                   2  \n",
       "4                   2  "
      ]
     },
     "execution_count": 32,
     "metadata": {},
     "output_type": "execute_result"
    }
   ],
   "source": [
    "print(\"The first few rows of the dataset:\")\n",
    "df.head()"
   ]
  },
  {
   "cell_type": "markdown",
   "id": "5c8bd02c",
   "metadata": {},
   "source": [
    "### Display dataset info"
   ]
  },
  {
   "cell_type": "code",
   "execution_count": 33,
   "id": "c87ffc4c",
   "metadata": {},
   "outputs": [
    {
     "name": "stdout",
     "output_type": "stream",
     "text": [
      "The information about the dataset:\n",
      "<class 'pandas.core.frame.DataFrame'>\n",
      "RangeIndex: 1000 entries, 0 to 999\n",
      "Data columns (total 16 columns):\n",
      " #   Column                      Non-Null Count  Dtype  \n",
      "---  ------                      --------------  -----  \n",
      " 0   Timestamp                   1000 non-null   object \n",
      " 1   Gender                      1000 non-null   object \n",
      " 2   Age                         1000 non-null   int64  \n",
      " 3   Course                      1000 non-null   object \n",
      " 4   YearOfStudy                 1000 non-null   object \n",
      " 5   CGPA                        1000 non-null   float64\n",
      " 6   Depression                  1000 non-null   int64  \n",
      " 7   Anxiety                     1000 non-null   int64  \n",
      " 8   PanicAttack                 1000 non-null   int64  \n",
      " 9   SpecialistTreatment         1000 non-null   int64  \n",
      " 10  SymptomFrequency_Last7Days  1000 non-null   int64  \n",
      " 11  HasMentalHealthSupport      1000 non-null   int64  \n",
      " 12  SleepQuality                1000 non-null   int64  \n",
      " 13  StudyStressLevel            1000 non-null   int64  \n",
      " 14  StudyHoursPerWeek           1000 non-null   int64  \n",
      " 15  AcademicEngagement          1000 non-null   int64  \n",
      "dtypes: float64(1), int64(11), object(4)\n",
      "memory usage: 125.1+ KB\n"
     ]
    }
   ],
   "source": [
    "print(\"The information about the dataset:\")\n",
    "df.info()"
   ]
  },
  {
   "cell_type": "markdown",
   "id": "97ef6161",
   "metadata": {},
   "source": [
    "### Display dataset basic statistics"
   ]
  },
  {
   "cell_type": "code",
   "execution_count": 34,
   "id": "afccf6c2",
   "metadata": {},
   "outputs": [
    {
     "name": "stdout",
     "output_type": "stream",
     "text": [
      "The statistical description of the dataset:\n"
     ]
    },
    {
     "data": {
      "application/vnd.microsoft.datawrangler.viewer.v0+json": {
       "columns": [
        {
         "name": "index",
         "rawType": "object",
         "type": "string"
        },
        {
         "name": "Age",
         "rawType": "float64",
         "type": "float"
        },
        {
         "name": "CGPA",
         "rawType": "float64",
         "type": "float"
        },
        {
         "name": "Depression",
         "rawType": "float64",
         "type": "float"
        },
        {
         "name": "Anxiety",
         "rawType": "float64",
         "type": "float"
        },
        {
         "name": "PanicAttack",
         "rawType": "float64",
         "type": "float"
        },
        {
         "name": "SpecialistTreatment",
         "rawType": "float64",
         "type": "float"
        },
        {
         "name": "SymptomFrequency_Last7Days",
         "rawType": "float64",
         "type": "float"
        },
        {
         "name": "HasMentalHealthSupport",
         "rawType": "float64",
         "type": "float"
        },
        {
         "name": "SleepQuality",
         "rawType": "float64",
         "type": "float"
        },
        {
         "name": "StudyStressLevel",
         "rawType": "float64",
         "type": "float"
        },
        {
         "name": "StudyHoursPerWeek",
         "rawType": "float64",
         "type": "float"
        },
        {
         "name": "AcademicEngagement",
         "rawType": "float64",
         "type": "float"
        }
       ],
       "ref": "89b422a3-b1b8-42c1-9cbc-f7e15a562016",
       "rows": [
        [
         "count",
         "1000.0",
         "1000.0",
         "1000.0",
         "1000.0",
         "1000.0",
         "1000.0",
         "1000.0",
         "1000.0",
         "1000.0",
         "1000.0",
         "1000.0",
         "1000.0"
        ],
        [
         "mean",
         "21.402",
         "3.12253",
         "0.483",
         "0.474",
         "0.458",
         "0.067",
         "3.498",
         "0.067",
         "2.983",
         "3.045",
         "9.746",
         "3.055"
        ],
        [
         "std",
         "2.3736111792014354",
         "0.8109607613543682",
         "0.49996095943679536",
         "0.49957339157882863",
         "0.49848218070908457",
         "0.25014710386805117",
         "2.3080995046408472",
         "0.25014710386805117",
         "1.4179991966576435",
         "1.417386321361958",
         "5.651497449652032",
         "1.4226731876994796"
        ],
        [
         "min",
         "18.0",
         "2.0",
         "0.0",
         "0.0",
         "0.0",
         "0.0",
         "0.0",
         "0.0",
         "1.0",
         "1.0",
         "1.0",
         "1.0"
        ],
        [
         "25%",
         "19.0",
         "2.25",
         "0.0",
         "0.0",
         "0.0",
         "0.0",
         "1.75",
         "0.0",
         "2.0",
         "2.0",
         "5.0",
         "2.0"
        ],
        [
         "50%",
         "21.0",
         "3.25",
         "0.0",
         "0.0",
         "0.0",
         "0.0",
         "3.0",
         "0.0",
         "3.0",
         "3.0",
         "9.0",
         "3.0"
        ],
        [
         "75%",
         "24.0",
         "4.0",
         "1.0",
         "1.0",
         "1.0",
         "0.0",
         "6.0",
         "0.0",
         "4.0",
         "4.0",
         "15.0",
         "4.0"
        ],
        [
         "max",
         "25.0",
         "4.0",
         "1.0",
         "1.0",
         "1.0",
         "1.0",
         "7.0",
         "1.0",
         "5.0",
         "5.0",
         "19.0",
         "5.0"
        ]
       ],
       "shape": {
        "columns": 12,
        "rows": 8
       }
      },
      "text/html": [
       "<div>\n",
       "<style scoped>\n",
       "    .dataframe tbody tr th:only-of-type {\n",
       "        vertical-align: middle;\n",
       "    }\n",
       "\n",
       "    .dataframe tbody tr th {\n",
       "        vertical-align: top;\n",
       "    }\n",
       "\n",
       "    .dataframe thead th {\n",
       "        text-align: right;\n",
       "    }\n",
       "</style>\n",
       "<table border=\"1\" class=\"dataframe\">\n",
       "  <thead>\n",
       "    <tr style=\"text-align: right;\">\n",
       "      <th></th>\n",
       "      <th>Age</th>\n",
       "      <th>CGPA</th>\n",
       "      <th>Depression</th>\n",
       "      <th>Anxiety</th>\n",
       "      <th>PanicAttack</th>\n",
       "      <th>SpecialistTreatment</th>\n",
       "      <th>SymptomFrequency_Last7Days</th>\n",
       "      <th>HasMentalHealthSupport</th>\n",
       "      <th>SleepQuality</th>\n",
       "      <th>StudyStressLevel</th>\n",
       "      <th>StudyHoursPerWeek</th>\n",
       "      <th>AcademicEngagement</th>\n",
       "    </tr>\n",
       "  </thead>\n",
       "  <tbody>\n",
       "    <tr>\n",
       "      <th>count</th>\n",
       "      <td>1000.000000</td>\n",
       "      <td>1000.000000</td>\n",
       "      <td>1000.000000</td>\n",
       "      <td>1000.000000</td>\n",
       "      <td>1000.000000</td>\n",
       "      <td>1000.000000</td>\n",
       "      <td>1000.0000</td>\n",
       "      <td>1000.000000</td>\n",
       "      <td>1000.000000</td>\n",
       "      <td>1000.000000</td>\n",
       "      <td>1000.000000</td>\n",
       "      <td>1000.000000</td>\n",
       "    </tr>\n",
       "    <tr>\n",
       "      <th>mean</th>\n",
       "      <td>21.402000</td>\n",
       "      <td>3.122530</td>\n",
       "      <td>0.483000</td>\n",
       "      <td>0.474000</td>\n",
       "      <td>0.458000</td>\n",
       "      <td>0.067000</td>\n",
       "      <td>3.4980</td>\n",
       "      <td>0.067000</td>\n",
       "      <td>2.983000</td>\n",
       "      <td>3.045000</td>\n",
       "      <td>9.746000</td>\n",
       "      <td>3.055000</td>\n",
       "    </tr>\n",
       "    <tr>\n",
       "      <th>std</th>\n",
       "      <td>2.373611</td>\n",
       "      <td>0.810961</td>\n",
       "      <td>0.499961</td>\n",
       "      <td>0.499573</td>\n",
       "      <td>0.498482</td>\n",
       "      <td>0.250147</td>\n",
       "      <td>2.3081</td>\n",
       "      <td>0.250147</td>\n",
       "      <td>1.417999</td>\n",
       "      <td>1.417386</td>\n",
       "      <td>5.651497</td>\n",
       "      <td>1.422673</td>\n",
       "    </tr>\n",
       "    <tr>\n",
       "      <th>min</th>\n",
       "      <td>18.000000</td>\n",
       "      <td>2.000000</td>\n",
       "      <td>0.000000</td>\n",
       "      <td>0.000000</td>\n",
       "      <td>0.000000</td>\n",
       "      <td>0.000000</td>\n",
       "      <td>0.0000</td>\n",
       "      <td>0.000000</td>\n",
       "      <td>1.000000</td>\n",
       "      <td>1.000000</td>\n",
       "      <td>1.000000</td>\n",
       "      <td>1.000000</td>\n",
       "    </tr>\n",
       "    <tr>\n",
       "      <th>25%</th>\n",
       "      <td>19.000000</td>\n",
       "      <td>2.250000</td>\n",
       "      <td>0.000000</td>\n",
       "      <td>0.000000</td>\n",
       "      <td>0.000000</td>\n",
       "      <td>0.000000</td>\n",
       "      <td>1.7500</td>\n",
       "      <td>0.000000</td>\n",
       "      <td>2.000000</td>\n",
       "      <td>2.000000</td>\n",
       "      <td>5.000000</td>\n",
       "      <td>2.000000</td>\n",
       "    </tr>\n",
       "    <tr>\n",
       "      <th>50%</th>\n",
       "      <td>21.000000</td>\n",
       "      <td>3.250000</td>\n",
       "      <td>0.000000</td>\n",
       "      <td>0.000000</td>\n",
       "      <td>0.000000</td>\n",
       "      <td>0.000000</td>\n",
       "      <td>3.0000</td>\n",
       "      <td>0.000000</td>\n",
       "      <td>3.000000</td>\n",
       "      <td>3.000000</td>\n",
       "      <td>9.000000</td>\n",
       "      <td>3.000000</td>\n",
       "    </tr>\n",
       "    <tr>\n",
       "      <th>75%</th>\n",
       "      <td>24.000000</td>\n",
       "      <td>4.000000</td>\n",
       "      <td>1.000000</td>\n",
       "      <td>1.000000</td>\n",
       "      <td>1.000000</td>\n",
       "      <td>0.000000</td>\n",
       "      <td>6.0000</td>\n",
       "      <td>0.000000</td>\n",
       "      <td>4.000000</td>\n",
       "      <td>4.000000</td>\n",
       "      <td>15.000000</td>\n",
       "      <td>4.000000</td>\n",
       "    </tr>\n",
       "    <tr>\n",
       "      <th>max</th>\n",
       "      <td>25.000000</td>\n",
       "      <td>4.000000</td>\n",
       "      <td>1.000000</td>\n",
       "      <td>1.000000</td>\n",
       "      <td>1.000000</td>\n",
       "      <td>1.000000</td>\n",
       "      <td>7.0000</td>\n",
       "      <td>1.000000</td>\n",
       "      <td>5.000000</td>\n",
       "      <td>5.000000</td>\n",
       "      <td>19.000000</td>\n",
       "      <td>5.000000</td>\n",
       "    </tr>\n",
       "  </tbody>\n",
       "</table>\n",
       "</div>"
      ],
      "text/plain": [
       "               Age         CGPA   Depression      Anxiety  PanicAttack  \\\n",
       "count  1000.000000  1000.000000  1000.000000  1000.000000  1000.000000   \n",
       "mean     21.402000     3.122530     0.483000     0.474000     0.458000   \n",
       "std       2.373611     0.810961     0.499961     0.499573     0.498482   \n",
       "min      18.000000     2.000000     0.000000     0.000000     0.000000   \n",
       "25%      19.000000     2.250000     0.000000     0.000000     0.000000   \n",
       "50%      21.000000     3.250000     0.000000     0.000000     0.000000   \n",
       "75%      24.000000     4.000000     1.000000     1.000000     1.000000   \n",
       "max      25.000000     4.000000     1.000000     1.000000     1.000000   \n",
       "\n",
       "       SpecialistTreatment  SymptomFrequency_Last7Days  \\\n",
       "count          1000.000000                   1000.0000   \n",
       "mean              0.067000                      3.4980   \n",
       "std               0.250147                      2.3081   \n",
       "min               0.000000                      0.0000   \n",
       "25%               0.000000                      1.7500   \n",
       "50%               0.000000                      3.0000   \n",
       "75%               0.000000                      6.0000   \n",
       "max               1.000000                      7.0000   \n",
       "\n",
       "       HasMentalHealthSupport  SleepQuality  StudyStressLevel  \\\n",
       "count             1000.000000   1000.000000       1000.000000   \n",
       "mean                 0.067000      2.983000          3.045000   \n",
       "std                  0.250147      1.417999          1.417386   \n",
       "min                  0.000000      1.000000          1.000000   \n",
       "25%                  0.000000      2.000000          2.000000   \n",
       "50%                  0.000000      3.000000          3.000000   \n",
       "75%                  0.000000      4.000000          4.000000   \n",
       "max                  1.000000      5.000000          5.000000   \n",
       "\n",
       "       StudyHoursPerWeek  AcademicEngagement  \n",
       "count        1000.000000         1000.000000  \n",
       "mean            9.746000            3.055000  \n",
       "std             5.651497            1.422673  \n",
       "min             1.000000            1.000000  \n",
       "25%             5.000000            2.000000  \n",
       "50%             9.000000            3.000000  \n",
       "75%            15.000000            4.000000  \n",
       "max            19.000000            5.000000  "
      ]
     },
     "execution_count": 34,
     "metadata": {},
     "output_type": "execute_result"
    }
   ],
   "source": [
    "print(\"The statistical description of the dataset:\")\n",
    "df.describe()"
   ]
  },
  {
   "cell_type": "markdown",
   "id": "4af2c906",
   "metadata": {},
   "source": [
    "### Check missing value"
   ]
  },
  {
   "cell_type": "code",
   "execution_count": 35,
   "id": "b8f6ca73",
   "metadata": {},
   "outputs": [
    {
     "name": "stdout",
     "output_type": "stream",
     "text": [
      "Count of missing values in each column:\n"
     ]
    },
    {
     "data": {
      "application/vnd.microsoft.datawrangler.viewer.v0+json": {
       "columns": [
        {
         "name": "index",
         "rawType": "object",
         "type": "string"
        },
        {
         "name": "0",
         "rawType": "int64",
         "type": "integer"
        }
       ],
       "ref": "e4c38903-bafb-47b8-9cb0-471a62e43e86",
       "rows": [
        [
         "Timestamp",
         "0"
        ],
        [
         "Gender",
         "0"
        ],
        [
         "Age",
         "0"
        ],
        [
         "Course",
         "0"
        ],
        [
         "YearOfStudy",
         "0"
        ],
        [
         "CGPA",
         "0"
        ],
        [
         "Depression",
         "0"
        ],
        [
         "Anxiety",
         "0"
        ],
        [
         "PanicAttack",
         "0"
        ],
        [
         "SpecialistTreatment",
         "0"
        ],
        [
         "SymptomFrequency_Last7Days",
         "0"
        ],
        [
         "HasMentalHealthSupport",
         "0"
        ],
        [
         "SleepQuality",
         "0"
        ],
        [
         "StudyStressLevel",
         "0"
        ],
        [
         "StudyHoursPerWeek",
         "0"
        ],
        [
         "AcademicEngagement",
         "0"
        ]
       ],
       "shape": {
        "columns": 1,
        "rows": 16
       }
      },
      "text/plain": [
       "Timestamp                     0\n",
       "Gender                        0\n",
       "Age                           0\n",
       "Course                        0\n",
       "YearOfStudy                   0\n",
       "CGPA                          0\n",
       "Depression                    0\n",
       "Anxiety                       0\n",
       "PanicAttack                   0\n",
       "SpecialistTreatment           0\n",
       "SymptomFrequency_Last7Days    0\n",
       "HasMentalHealthSupport        0\n",
       "SleepQuality                  0\n",
       "StudyStressLevel              0\n",
       "StudyHoursPerWeek             0\n",
       "AcademicEngagement            0\n",
       "dtype: int64"
      ]
     },
     "execution_count": 35,
     "metadata": {},
     "output_type": "execute_result"
    }
   ],
   "source": [
    "print(\"Count of missing values in each column:\")\n",
    "df.isnull().sum()"
   ]
  },
  {
   "cell_type": "markdown",
   "id": "16c58c5b",
   "metadata": {},
   "source": [
    "##### There are no missing values in the dataset, which is ideal. Therefore, we can skip any data cleaning steps related to handling missing values."
   ]
  },
  {
   "cell_type": "markdown",
   "id": "85e883dc",
   "metadata": {},
   "source": [
    "### Display the shape of the dataset"
   ]
  },
  {
   "cell_type": "code",
   "execution_count": 36,
   "id": "b6b690ac",
   "metadata": {},
   "outputs": [
    {
     "name": "stdout",
     "output_type": "stream",
     "text": [
      "Shape of the dataset:\n"
     ]
    },
    {
     "data": {
      "text/plain": [
       "(1000, 16)"
      ]
     },
     "execution_count": 36,
     "metadata": {},
     "output_type": "execute_result"
    }
   ],
   "source": [
    "print(\"Shape of the dataset:\")\n",
    "df.shape"
   ]
  },
  {
   "cell_type": "markdown",
   "id": "16bc18c9",
   "metadata": {},
   "source": [
    "## Data Cleaning"
   ]
  },
  {
   "cell_type": "markdown",
   "id": "69b2b9be",
   "metadata": {},
   "source": [
    "### Standardize the YearOfStudy field"
   ]
  },
  {
   "cell_type": "code",
   "execution_count": 37,
   "id": "29fd9b5a",
   "metadata": {},
   "outputs": [],
   "source": [
    "df['YearOfStudy'] = df['YearOfStudy'].str.strip().str.title()"
   ]
  },
  {
   "cell_type": "markdown",
   "id": "7f303b18",
   "metadata": {},
   "source": [
    "### Standardize the date format"
   ]
  },
  {
   "cell_type": "code",
   "execution_count": 38,
   "id": "b9d6a847",
   "metadata": {},
   "outputs": [],
   "source": [
    "df['Timestamp'] = pd.to_datetime(df['Timestamp'], format='mixed', errors='coerce')"
   ]
  },
  {
   "cell_type": "markdown",
   "id": "bf51c9d5",
   "metadata": {},
   "source": [
    "### Check missing value again"
   ]
  },
  {
   "cell_type": "code",
   "execution_count": 39,
   "id": "c53f9db4",
   "metadata": {},
   "outputs": [
    {
     "data": {
      "application/vnd.microsoft.datawrangler.viewer.v0+json": {
       "columns": [
        {
         "name": "index",
         "rawType": "object",
         "type": "string"
        },
        {
         "name": "0",
         "rawType": "int64",
         "type": "integer"
        }
       ],
       "ref": "723212b3-ab0f-4e58-8c5a-1e8908b0e664",
       "rows": [
        [
         "Timestamp",
         "0"
        ],
        [
         "Gender",
         "0"
        ],
        [
         "Age",
         "0"
        ],
        [
         "Course",
         "0"
        ],
        [
         "YearOfStudy",
         "0"
        ],
        [
         "CGPA",
         "0"
        ],
        [
         "Depression",
         "0"
        ],
        [
         "Anxiety",
         "0"
        ],
        [
         "PanicAttack",
         "0"
        ],
        [
         "SpecialistTreatment",
         "0"
        ],
        [
         "SymptomFrequency_Last7Days",
         "0"
        ],
        [
         "HasMentalHealthSupport",
         "0"
        ],
        [
         "SleepQuality",
         "0"
        ],
        [
         "StudyStressLevel",
         "0"
        ],
        [
         "StudyHoursPerWeek",
         "0"
        ],
        [
         "AcademicEngagement",
         "0"
        ]
       ],
       "shape": {
        "columns": 1,
        "rows": 16
       }
      },
      "text/plain": [
       "Timestamp                     0\n",
       "Gender                        0\n",
       "Age                           0\n",
       "Course                        0\n",
       "YearOfStudy                   0\n",
       "CGPA                          0\n",
       "Depression                    0\n",
       "Anxiety                       0\n",
       "PanicAttack                   0\n",
       "SpecialistTreatment           0\n",
       "SymptomFrequency_Last7Days    0\n",
       "HasMentalHealthSupport        0\n",
       "SleepQuality                  0\n",
       "StudyStressLevel              0\n",
       "StudyHoursPerWeek             0\n",
       "AcademicEngagement            0\n",
       "dtype: int64"
      ]
     },
     "execution_count": 39,
     "metadata": {},
     "output_type": "execute_result"
    }
   ],
   "source": [
    "df.isnull().sum()"
   ]
  },
  {
   "cell_type": "markdown",
   "id": "3e0af37f",
   "metadata": {},
   "source": [
    "## Descriptive Statistical Analysis"
   ]
  },
  {
   "cell_type": "markdown",
   "id": "98bafc11",
   "metadata": {},
   "source": [
    "### Gender, grade and major distribution"
   ]
  },
  {
   "cell_type": "code",
   "execution_count": 40,
   "id": "d947146d",
   "metadata": {},
   "outputs": [
    {
     "data": {
      "image/png": "[encoded data removed]",
      "text/plain": [
       "<Figure size 640x480 with 1 Axes>"
      ]
     },
     "metadata": {},
     "output_type": "display_data"
    }
   ],
   "source": [
    "gender_counts = df['Gender'].value_counts()\n",
    "ax = gender_counts.plot(kind='bar', title='Gender distribution', color='skyblue')\n",
    "plt.ylabel('Number of people')\n",
    "\n",
    "# Adding value labels on top of the bars\n",
    "for i, v in enumerate(gender_counts):\n",
    "    ax.text(i, v + 1, str(v), ha='center', fontweight='bold')\n",
    "\n",
    "plt.show()"
   ]
  },
  {
   "cell_type": "code",
   "execution_count": 41,
   "id": "7171788c",
   "metadata": {},
   "outputs": [
    {
     "data": {
      "image/png": "[encoded data removed]",
      "text/plain": [
       "<Figure size 640x480 with 1 Axes>"
      ]
     },
     "metadata": {},
     "output_type": "display_data"
    }
   ],
   "source": [
    "year_counts = df['YearOfStudy'].value_counts()\n",
    "ax = year_counts.plot(kind='bar', title='Year of Study Distribution', color='orange')\n",
    "plt.ylabel('Number of people')\n",
    "\n",
    "# Add value labels on top of the bars\n",
    "for i, v in enumerate(year_counts):\n",
    "    ax.text(i, v + 1, str(v), ha='center', fontweight='bold')\n",
    "\n",
    "plt.show()"
   ]
  },
  {
   "cell_type": "markdown",
   "id": "9eeed38d",
   "metadata": {},
   "source": [
    "### Overall situation of mental health problems (depression/Anxiety/panic)"
   ]
  },
  {
   "cell_type": "code",
   "execution_count": 42,
   "id": "dbe13f5f",
   "metadata": {},
   "outputs": [
    {
     "data": {
      "image/png": "[encoded data removed]",
      "text/plain": [
       "<Figure size 640x480 with 1 Axes>"
      ]
     },
     "metadata": {},
     "output_type": "display_data"
    }
   ],
   "source": [
    "mental_counts = df[['Depression', 'Anxiety', 'PanicAttack']].sum()\n",
    "ax = mental_counts.plot(kind='bar', title='Number of People with Mental Health Issues', color=['red', 'purple', 'blue'])\n",
    "plt.ylabel('Number of people')\n",
    "\n",
    "# Adding value labels on top of the bars\n",
    "for i, v in enumerate(mental_counts):\n",
    "    ax.text(i, v + 1, str(int(v)), ha='center', fontweight='bold')\n",
    "\n",
    "plt.show()"
   ]
  },
  {
   "cell_type": "markdown",
   "id": "00cbbf76",
   "metadata": {},
   "source": [
    "## Visual exploratory analysis"
   ]
  },
  {
   "cell_type": "markdown",
   "id": "fc69b6a5",
   "metadata": {},
   "source": [
    "### Depression vs. Academic Pressure"
   ]
  },
  {
   "cell_type": "code",
   "execution_count": 43,
   "id": "a15e797e",
   "metadata": {},
   "outputs": [
    {
     "data": {
      "image/png": "[encoded data removed]",
      "text/plain": [
       "<Figure size 640x480 with 1 Axes>"
      ]
     },
     "metadata": {},
     "output_type": "display_data"
    }
   ],
   "source": [
    "sns.boxplot(x='Depression', y='StudyStressLevel', data=df)\n",
    "plt.title(\"Depression vs Study Stress Level (Box Plot)\")\n",
    "plt.xlabel(\"Depression (0=No, 1=Yes)\")\n",
    "plt.ylabel(\"Study Stress Level\")\n",
    "plt.show()"
   ]
  },
  {
   "cell_type": "markdown",
   "id": "db09680d",
   "metadata": {},
   "source": [
    "### Depression vs. Sleep Quality"
   ]
  },
  {
   "cell_type": "code",
   "execution_count": 44,
   "id": "ae6d8b74",
   "metadata": {},
   "outputs": [
    {
     "data": {
      "image/png": "[encoded data removed]",
      "text/plain": [
       "<Figure size 640x480 with 1 Axes>"
      ]
     },
     "metadata": {},
     "output_type": "display_data"
    }
   ],
   "source": [
    "sns.boxplot(x='Depression', y='SleepQuality', data=df)\n",
    "plt.title(\"Depression vs Sleep Quality (Box Plot)\")\n",
    "plt.xlabel(\"Depression (0=No, 1=Yes)\")\n",
    "plt.ylabel(\"Sleep Quality Score\")\n",
    "plt.show()"
   ]
  },
  {
   "cell_type": "markdown",
   "id": "bd8be88a",
   "metadata": {},
   "source": [
    "### The depression rates of each grade"
   ]
  },
  {
   "cell_type": "code",
   "execution_count": 45,
   "id": "fcdb0495",
   "metadata": {},
   "outputs": [
    {
     "data": {
      "image/png": "[encoded data removed]",
      "text/plain": [
       "<Figure size 640x480 with 1 Axes>"
      ]
     },
     "metadata": {},
     "output_type": "display_data"
    }
   ],
   "source": [
    "depression_by_year = df.groupby('YearOfStudy')['Depression'].mean().sort_values()\n",
    "depression_by_year.plot(kind='barh', title='Depression Rate by Year of Study', color='blue')\n",
    "plt.xlabel('Depression Rate')\n",
    "plt.show()"
   ]
  },
  {
   "cell_type": "markdown",
   "id": "57a5dfd1",
   "metadata": {},
   "source": [
    "### StudyHours vs StudyStressLevel"
   ]
  },
  {
   "cell_type": "code",
   "execution_count": 46,
   "id": "d2c61028",
   "metadata": {},
   "outputs": [
    {
     "data": {
      "image/png": "[encoded data removed]",
      "text/plain": [
       "<Figure size 640x480 with 1 Axes>"
      ]
     },
     "metadata": {},
     "output_type": "display_data"
    },
    {
     "data": {
      "image/png": "[encoded data removed]",
      "text/plain": [
       "<Figure size 640x480 with 1 Axes>"
      ]
     },
     "metadata": {},
     "output_type": "display_data"
    }
   ],
   "source": [
    "groups = df.groupby(\"Depression\")[\"SleepQuality\"].apply(list)\n",
    "\n",
    "for status, vals in groups.items():\n",
    "    plt.figure()\n",
    "    counts, bins, _ = plt.hist(vals, bins=10, color=\"skyblue\", edgecolor=\"black\")\n",
    "    plt.title(f\"SleepQuality distribution — Depression={status}\")\n",
    "    plt.xlabel(\"SleepQuality\")\n",
    "    plt.ylabel(\"Count\")\n",
    "\n",
    "    for i, c in enumerate(counts):\n",
    "        plt.text((bins[i] + bins[i+1]) / 2, c, int(c),\n",
    "                 ha='center', va='bottom', fontsize=8)\n",
    "\n",
    "    plt.show()\n",
    "\n"
   ]
  },
  {
   "cell_type": "markdown",
   "id": "68a43504",
   "metadata": {},
   "source": [
    "## Correlation analysis among variables"
   ]
  },
  {
   "cell_type": "code",
   "execution_count": 47,
   "id": "40e9a103",
   "metadata": {},
   "outputs": [
    {
     "data": {
      "image/png": "[encoded data removed]",
      "text/plain": [
       "<Figure size 1000x600 with 2 Axes>"
      ]
     },
     "metadata": {},
     "output_type": "display_data"
    }
   ],
   "source": [
    "# Selecting numeric columns for correlation analysis\n",
    "corr_columns = ['Depression', 'Anxiety', 'PanicAttack', 'SleepQuality', 'StudyStressLevel', 'StudyHoursPerWeek', 'AcademicEngagement']\n",
    "corr = df[corr_columns].corr()\n",
    "\n",
    "# Plotting the correlation heatmap\n",
    "plt.figure(figsize=(10, 6))\n",
    "sns.heatmap(corr, annot=True, cmap='coolwarm')\n",
    "plt.title(\"Correlation Heatmap of Mental Health and Academic Variables\")\n",
    "plt.show()"
   ]
  },
  {
   "cell_type": "markdown",
   "id": "99af5733",
   "metadata": {},
   "source": [
    "## Save the cleaned dataset"
   ]
  },
  {
   "cell_type": "code",
   "execution_count": 48,
   "id": "31646952",
   "metadata": {},
   "outputs": [],
   "source": [
    "df.to_csv(\"mentalhealth_dataset_cleaned.csv\", index=False)"
   ]
  },
  {
   "cell_type": "markdown",
   "id": "ba47881f",
   "metadata": {},
   "source": [
    "### 📈 Key Observations\n",
    "Depression is negatively correlated with Academic Engagement (r = -0.08), suggesting students with higher depression levels tend to be less academically engaged.\n",
    "\n",
    "1. Anxiety shows a slight positive correlation with Academic Engagement (r = 0.075), which may indicate some anxious students are still actively involved in academics.\n",
    "\n",
    "2. StudyStressLevel has a small positive correlation with PanicAttack (r = 0.053) and Anxiety (r = 0.036), hinting at a relationship between stress and mental strain.\n",
    "\n",
    "3. SleepQuality is weakly negatively correlated with Depression and Anxiety, but the correlations are minimal (near 0).\n",
    "\n",
    "4. StudyHoursPerWeek does not show strong correlations with any mental health variable."
   ]
  },
  {
   "cell_type": "markdown",
   "id": "753e2c62",
   "metadata": {},
   "source": [
    "## Conclusion:  "
   ]
  },
  {
   "cell_type": "markdown",
   "id": "f31f4983",
   "metadata": {},
   "source": [
    "### ✅ Key findings:\n",
    "- Depression is significantly positively correlated with academic stress.\n",
    "- The worse the sleep quality is, the higher the depression rate will be.\n",
    "- The situations of anxiety and panic attacks are also related to factors such as academic participation;\n",
    "- The risk of depression can be preliminarily predicted through logistic regression.\n",
    "\n",
    "\n",
    "\n",
    "### 💡 Suggestion:\n",
    "- Colleges and universities should provide more psychological support for high-pressure grades and student groups.\n",
    "- Encourage regular schedules and attach importance to sleep management;\n",
    "- Offer courses on stress management and psychological counseling to enhance coping skills."
   ]
  }
 ],
 "metadata": {
  "kernelspec": {
   "display_name": "Python 3",
   "language": "python",
   "name": "python3"
  },
  "language_info": {
   "codemirror_mode": {
    "name": "ipython",
    "version": 3
   },
   "file_extension": ".py",
   "mimetype": "text/x-python",
   "name": "python",
   "nbconvert_exporter": "python",
   "pygments_lexer": "ipython3",
   "version": "3.13.3"
  }
 },
 "nbformat": 4,
 "nbformat_minor": 5
}
